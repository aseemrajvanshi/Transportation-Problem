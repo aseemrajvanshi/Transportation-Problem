{
 "cells": [
  {
   "cell_type": "code",
   "execution_count": 1,
   "metadata": {},
   "outputs": [
    {
     "name": "stdout",
     "output_type": "stream",
     "text": [
      "\t A\n",
      "\t B\n",
      "\t C\n",
      "\t D\n",
      "\t E\n",
      "W \t\n",
      "6\n",
      "\t\n",
      "\t\n",
      "9\n",
      "\t\n",
      "\t\n",
      "\t\n",
      "X \t\n",
      "5\n",
      "\t\n",
      "5\n",
      "\t\n",
      "\t\n",
      "10\n",
      "\t\n",
      "\t\n",
      "Y \t\n",
      "\t\n",
      "7\n",
      "\t\n",
      "\t\n",
      "\t\n",
      "8\n",
      "\t\n",
      "\n",
      "\n",
      "Total Cost =  2834\n"
     ]
    }
   ],
   "source": [
    "from collections import defaultdict\n",
    " \n",
    "costs  = {'W': {'A': 61, 'B': 72, 'C': 45, 'D': 55, 'E': 66},\n",
    "          'X': {'A': 69, 'B': 78, 'C': 60, 'D': 49, 'E': 56},\n",
    "          'Y': {'A': 59, 'B': 66, 'C': 63, 'D': 61, 'E': 47}}\n",
    "demand = {'A': 11, 'B': 12, 'C': 9, 'D': 10, 'E': 8}\n",
    "cols = sorted(demand.keys())\n",
    "supply = {'W': 15, 'X': 20, 'Y': 15}\n",
    "res = dict((k, defaultdict(int)) for k in costs)\n",
    "g = {}\n",
    "for x in supply:\n",
    "    g[x] = sorted(costs[x].keys(), key=lambda g: costs[x][g])\n",
    "for x in demand:\n",
    "    g[x] = sorted(costs.keys(), key=lambda g: costs[g][x])\n",
    " \n",
    "while g:\n",
    "    d = {}\n",
    "    for x in demand:\n",
    "        d[x] = (costs[g[x][1]][x] - costs[g[x][0]][x]) if len(g[x]) > 1 else costs[g[x][0]][x]\n",
    "    s = {}\n",
    "    for x in supply:\n",
    "        s[x] = (costs[x][g[x][1]] - costs[x][g[x][0]]) if len(g[x]) > 1 else costs[x][g[x][0]]\n",
    "    f = max(d, key=lambda n: d[n])\n",
    "    t = max(s, key=lambda n: s[n])\n",
    "    t, f = (f, g[f][0]) if d[f] > s[t] else (g[t][0], t)\n",
    "    v = min(supply[f], demand[t])\n",
    "    res[f][t] += v\n",
    "    demand[t] -= v\n",
    "    if demand[t] == 0:\n",
    "        for k, n in supply.items():\n",
    "            if n != 0:\n",
    "                g[k].remove(t)\n",
    "        del g[t]\n",
    "        del demand[t]\n",
    "    supply[f] -= v\n",
    "    if supply[f] == 0:\n",
    "        for k, n in demand.items():\n",
    "            if n != 0:\n",
    "                g[k].remove(f)\n",
    "        del g[f]\n",
    "        del supply[f]\n",
    " \n",
    "for n in cols:\n",
    "    print (\"\\t\", n),\n",
    "print\n",
    "cost = 0\n",
    "for g in sorted(costs):\n",
    "    print (g, \"\\t\"),\n",
    "    for n in cols:\n",
    "        y = res[g][n]\n",
    "        if y != 0:\n",
    "            print (y),\n",
    "        cost += y * costs[g][n]\n",
    "        print (\"\\t\"),\n",
    "    print\n",
    "print (\"\\n\\nTotal Cost = \", cost)"
   ]
  },
  {
   "cell_type": "markdown",
   "metadata": {},
   "source": [
    "### PuLP Model"
   ]
  },
  {
   "cell_type": "code",
   "execution_count": 2,
   "metadata": {},
   "outputs": [],
   "source": [
    "from pulp import *"
   ]
  },
  {
   "cell_type": "code",
   "execution_count": 20,
   "metadata": {},
   "outputs": [],
   "source": [
    "# Creates a list of all the supply nodes\n",
    "Warehouses = [\"A\",\"B\", \"C\"]\n",
    "\n",
    "# Creates a dictionary for the number of units of supply for each supply node\n",
    "supply = {\"A\": 15,\n",
    "        \"B\": 20,\n",
    "         \"C\": 15}\n",
    "\n",
    "# Creates a list of all demand nodes\n",
    "Markets = [\"1\", \"2\", \"3\", \"4\", \"5\"]\n",
    "\n",
    "# Creates a dictionary for the number of units of demand for each demand node\n",
    "demand = {\"1\": 11,\n",
    "        \"2\": 12,\n",
    "        \"3\": 9,\n",
    "        \"4\": 10,\n",
    "        \"5\": 8}"
   ]
  },
  {
   "cell_type": "code",
   "execution_count": 21,
   "metadata": {},
   "outputs": [],
   "source": [
    "# Creates a list of costs of each transportation path\n",
    "costs = [   #Markets\n",
    "        #1 2 3 4 5\n",
    "         [61,72,45,55,66],#A  Warehouses\n",
    "        [69,78,60,49,56], #B\n",
    "        [59,66,63,61,47] #C\n",
    "         ]"
   ]
  },
  {
   "cell_type": "code",
   "execution_count": 22,
   "metadata": {},
   "outputs": [],
   "source": [
    "# Creates the prob variable to contain the problem data\n",
    "prob = LpProblem(\"Wood Distribution Problem\",LpMinimize)"
   ]
  },
  {
   "cell_type": "code",
   "execution_count": 23,
   "metadata": {},
   "outputs": [],
   "source": [
    "# Creates a list of tuples containing all the possible routes for transport\n",
    "Routes = [(w,m) for w in Warehouses for m in Markets]"
   ]
  },
  {
   "cell_type": "code",
   "execution_count": 24,
   "metadata": {},
   "outputs": [],
   "source": [
    "# A dictionary called route_vars is created to contain the referenced variables (the routes)\n",
    "route_vars = LpVariable.dicts(\"Route\",(Warehouses,Markets),0,None,LpInteger)"
   ]
  },
  {
   "cell_type": "code",
   "execution_count": 12,
   "metadata": {},
   "outputs": [
    {
     "ename": "NameError",
     "evalue": "name 'w' is not defined",
     "output_type": "error",
     "traceback": [
      "\u001b[1;31m---------------------------------------------------------------------------\u001b[0m",
      "\u001b[1;31mNameError\u001b[0m                                 Traceback (most recent call last)",
      "\u001b[1;32m<ipython-input-12-089c7bbb628f>\u001b[0m in \u001b[0;36m<module>\u001b[1;34m\u001b[0m\n\u001b[1;32m----> 1\u001b[1;33m \u001b[0mw\u001b[0m\u001b[1;33m.\u001b[0m\u001b[0mtype\u001b[0m\u001b[1;33m\u001b[0m\u001b[1;33m\u001b[0m\u001b[0m\n\u001b[0m",
      "\u001b[1;31mNameError\u001b[0m: name 'w' is not defined"
     ]
    }
   ],
   "source": []
  },
  {
   "cell_type": "code",
   "execution_count": 28,
   "metadata": {},
   "outputs": [
    {
     "ename": "TypeError",
     "evalue": "'builtin_function_or_method' object is not iterable",
     "output_type": "error",
     "traceback": [
      "\u001b[1;31m---------------------------------------------------------------------------\u001b[0m",
      "\u001b[1;31mTypeError\u001b[0m                                 Traceback (most recent call last)",
      "\u001b[1;32m<ipython-input-28-6ab7a86ea617>\u001b[0m in \u001b[0;36m<module>\u001b[1;34m\u001b[0m\n\u001b[0;32m      1\u001b[0m \u001b[1;31m# The objective function is added to prob first\u001b[0m\u001b[1;33m\u001b[0m\u001b[1;33m\u001b[0m\u001b[1;33m\u001b[0m\u001b[0m\n\u001b[1;32m----> 2\u001b[1;33m \u001b[0mprob\u001b[0m \u001b[1;33m+=\u001b[0m \u001b[0mlpSum\u001b[0m\u001b[1;33m(\u001b[0m\u001b[1;33m[\u001b[0m\u001b[0mroute_vars\u001b[0m\u001b[1;33m[\u001b[0m\u001b[0mw\u001b[0m\u001b[1;33m]\u001b[0m\u001b[1;33m[\u001b[0m\u001b[0mm\u001b[0m\u001b[1;33m]\u001b[0m\u001b[1;33m*\u001b[0m\u001b[0mcosts\u001b[0m\u001b[1;33m[\u001b[0m\u001b[0mw\u001b[0m\u001b[1;33m]\u001b[0m\u001b[1;33m[\u001b[0m\u001b[0mm\u001b[0m\u001b[1;33m]\u001b[0m \u001b[1;32mfor\u001b[0m \u001b[1;33m(\u001b[0m\u001b[0mw\u001b[0m\u001b[1;33m,\u001b[0m\u001b[0mm\u001b[0m\u001b[1;33m)\u001b[0m \u001b[1;32min\u001b[0m \u001b[0mRoutes\u001b[0m\u001b[1;33m.\u001b[0m\u001b[0mindex\u001b[0m\u001b[1;33m]\u001b[0m\u001b[1;33m)\u001b[0m\u001b[1;33m,\u001b[0m \u001b[1;34m\"Sum of Transporting Costs\"\u001b[0m\u001b[1;33m\u001b[0m\u001b[1;33m\u001b[0m\u001b[0m\n\u001b[0m",
      "\u001b[1;31mTypeError\u001b[0m: 'builtin_function_or_method' object is not iterable"
     ]
    }
   ],
   "source": [
    "# The objective function is added to prob first\n",
    "prob += lpSum([route_vars[w][m]*costs[w][m] for (w,m) in Routes.index]), \"Sum of Transporting Costs\""
   ]
  },
  {
   "cell_type": "code",
   "execution_count": 29,
   "metadata": {},
   "outputs": [
    {
     "ename": "NameError",
     "evalue": "name 'm' is not defined",
     "output_type": "error",
     "traceback": [
      "\u001b[1;31m---------------------------------------------------------------------------\u001b[0m",
      "\u001b[1;31mNameError\u001b[0m                                 Traceback (most recent call last)",
      "\u001b[1;32m<ipython-input-29-d71fa6d9d4bc>\u001b[0m in \u001b[0;36m<module>\u001b[1;34m\u001b[0m\n\u001b[0;32m      5\u001b[0m \u001b[1;31m# The demand minimum constraints are added to prob for each demand node (bar)\u001b[0m\u001b[1;33m\u001b[0m\u001b[1;33m\u001b[0m\u001b[1;33m\u001b[0m\u001b[0m\n\u001b[0;32m      6\u001b[0m \u001b[1;32mfor\u001b[0m \u001b[0mb\u001b[0m \u001b[1;32min\u001b[0m \u001b[0mMarkets\u001b[0m\u001b[1;33m:\u001b[0m\u001b[1;33m\u001b[0m\u001b[1;33m\u001b[0m\u001b[0m\n\u001b[1;32m----> 7\u001b[1;33m     \u001b[0mprob\u001b[0m \u001b[1;33m+=\u001b[0m \u001b[0mlpSum\u001b[0m\u001b[1;33m(\u001b[0m\u001b[1;33m[\u001b[0m\u001b[0mroute_vars\u001b[0m\u001b[1;33m[\u001b[0m\u001b[0mw\u001b[0m\u001b[1;33m]\u001b[0m\u001b[1;33m[\u001b[0m\u001b[0mm\u001b[0m\u001b[1;33m]\u001b[0m \u001b[1;32mfor\u001b[0m \u001b[0mw\u001b[0m \u001b[1;32min\u001b[0m \u001b[0mWarehouses\u001b[0m\u001b[1;33m]\u001b[0m\u001b[1;33m)\u001b[0m \u001b[1;33m>=\u001b[0m \u001b[0mdemand\u001b[0m\u001b[1;33m[\u001b[0m\u001b[0mm\u001b[0m\u001b[1;33m]\u001b[0m\u001b[1;33m,\u001b[0m \u001b[1;34m\"Sum of Products into Markets %s\"\u001b[0m\u001b[1;33m%\u001b[0m\u001b[0mm\u001b[0m\u001b[1;33m\u001b[0m\u001b[1;33m\u001b[0m\u001b[0m\n\u001b[0m",
      "\u001b[1;32m<ipython-input-29-d71fa6d9d4bc>\u001b[0m in \u001b[0;36m<listcomp>\u001b[1;34m(.0)\u001b[0m\n\u001b[0;32m      5\u001b[0m \u001b[1;31m# The demand minimum constraints are added to prob for each demand node (bar)\u001b[0m\u001b[1;33m\u001b[0m\u001b[1;33m\u001b[0m\u001b[1;33m\u001b[0m\u001b[0m\n\u001b[0;32m      6\u001b[0m \u001b[1;32mfor\u001b[0m \u001b[0mb\u001b[0m \u001b[1;32min\u001b[0m \u001b[0mMarkets\u001b[0m\u001b[1;33m:\u001b[0m\u001b[1;33m\u001b[0m\u001b[1;33m\u001b[0m\u001b[0m\n\u001b[1;32m----> 7\u001b[1;33m     \u001b[0mprob\u001b[0m \u001b[1;33m+=\u001b[0m \u001b[0mlpSum\u001b[0m\u001b[1;33m(\u001b[0m\u001b[1;33m[\u001b[0m\u001b[0mroute_vars\u001b[0m\u001b[1;33m[\u001b[0m\u001b[0mw\u001b[0m\u001b[1;33m]\u001b[0m\u001b[1;33m[\u001b[0m\u001b[0mm\u001b[0m\u001b[1;33m]\u001b[0m \u001b[1;32mfor\u001b[0m \u001b[0mw\u001b[0m \u001b[1;32min\u001b[0m \u001b[0mWarehouses\u001b[0m\u001b[1;33m]\u001b[0m\u001b[1;33m)\u001b[0m \u001b[1;33m>=\u001b[0m \u001b[0mdemand\u001b[0m\u001b[1;33m[\u001b[0m\u001b[0mm\u001b[0m\u001b[1;33m]\u001b[0m\u001b[1;33m,\u001b[0m \u001b[1;34m\"Sum of Products into Markets %s\"\u001b[0m\u001b[1;33m%\u001b[0m\u001b[0mm\u001b[0m\u001b[1;33m\u001b[0m\u001b[1;33m\u001b[0m\u001b[0m\n\u001b[0m",
      "\u001b[1;31mNameError\u001b[0m: name 'm' is not defined"
     ]
    }
   ],
   "source": [
    "# The supply maximum constraints are added to prob for each supply node (warehouse)\n",
    "for w in Warehouses:\n",
    "    prob += lpSum([route_vars[w][m] for m in Markets]) <= supply[w], \"Sum of Products out of Warehouse %s\"%w\n",
    "\n",
    "# The demand minimum constraints are added to prob for each demand node (bar)\n",
    "for b in Markets:\n",
    "    prob += lpSum([route_vars[w][m] for w in Warehouses]) >= demand[m], \"Sum of Products into Markets %s\"%m"
   ]
  },
  {
   "cell_type": "code",
   "execution_count": null,
   "metadata": {},
   "outputs": [],
   "source": []
  }
 ],
 "metadata": {
  "kernelspec": {
   "display_name": "Python 3",
   "language": "python",
   "name": "python3"
  },
  "language_info": {
   "codemirror_mode": {
    "name": "ipython",
    "version": 3
   },
   "file_extension": ".py",
   "mimetype": "text/x-python",
   "name": "python",
   "nbconvert_exporter": "python",
   "pygments_lexer": "ipython3",
   "version": "3.8.3"
  }
 },
 "nbformat": 4,
 "nbformat_minor": 4
}
